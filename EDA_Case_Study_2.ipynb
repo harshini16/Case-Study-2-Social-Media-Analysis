{
 "cells": [
  {
   "cell_type": "markdown",
   "id": "c15863e0",
   "metadata": {},
   "source": [
    "# Case Study 2 - Social Media Analysis using Pandas and Seaborn "
   ]
  },
  {
   "cell_type": "markdown",
   "id": "95a09908",
   "metadata": {},
   "source": [
    "### Problem Statement:\n",
    "Analyzing Social Media Data - Dataset contains social media data such as the number of likes, comments, shares, etc.\n",
    "\n",
    "You need to analyze the data and create visualizations to identify popular trends and patterns.\n",
    "\n",
    "You can use Pandas to clean and manipulate the data and Seaborn to represent the data using visualizations.\n",
    "\n",
    "Dataset: social media influencers – youtube.csv\n"
   ]
  },
  {
   "cell_type": "code",
   "execution_count": 2,
   "id": "9acd3975",
   "metadata": {},
   "outputs": [],
   "source": [
    "import pandas as pd \n",
    "import numpy as np \n",
    "import matplotlib.pyplot as plt \n",
    "import seaborn as sns "
   ]
  },
  {
   "cell_type": "code",
   "execution_count": 3,
   "id": "7137e67c",
   "metadata": {},
   "outputs": [
    {
     "data": {
      "text/html": [
       "<div>\n",
       "<style scoped>\n",
       "    .dataframe tbody tr th:only-of-type {\n",
       "        vertical-align: middle;\n",
       "    }\n",
       "\n",
       "    .dataframe tbody tr th {\n",
       "        vertical-align: top;\n",
       "    }\n",
       "\n",
       "    .dataframe thead th {\n",
       "        text-align: right;\n",
       "    }\n",
       "</style>\n",
       "<table border=\"1\" class=\"dataframe\">\n",
       "  <thead>\n",
       "    <tr style=\"text-align: right;\">\n",
       "      <th></th>\n",
       "      <th>youtuber name</th>\n",
       "      <th>channel name</th>\n",
       "      <th>Category</th>\n",
       "      <th>Subscribers</th>\n",
       "      <th>Audience Country</th>\n",
       "      <th>avg views</th>\n",
       "      <th>avg likes</th>\n",
       "      <th>avg comments</th>\n",
       "    </tr>\n",
       "  </thead>\n",
       "  <tbody>\n",
       "    <tr>\n",
       "      <th>0</th>\n",
       "      <td>tseries</td>\n",
       "      <td>T-Series</td>\n",
       "      <td>Music &amp; Dance</td>\n",
       "      <td>212.1M</td>\n",
       "      <td>India</td>\n",
       "      <td>323.7K</td>\n",
       "      <td>9.8K</td>\n",
       "      <td>290</td>\n",
       "    </tr>\n",
       "    <tr>\n",
       "      <th>1</th>\n",
       "      <td>checkgate</td>\n",
       "      <td>Cocomelon - Nursery Rhymes</td>\n",
       "      <td>Education</td>\n",
       "      <td>132.1M</td>\n",
       "      <td>NaN</td>\n",
       "      <td>13.8M</td>\n",
       "      <td>80.9K</td>\n",
       "      <td>NaN</td>\n",
       "    </tr>\n",
       "    <tr>\n",
       "      <th>2</th>\n",
       "      <td>setindia</td>\n",
       "      <td>SET India</td>\n",
       "      <td>NaN</td>\n",
       "      <td>130.4M</td>\n",
       "      <td>India</td>\n",
       "      <td>23.6K</td>\n",
       "      <td>314</td>\n",
       "      <td>21</td>\n",
       "    </tr>\n",
       "    <tr>\n",
       "      <th>3</th>\n",
       "      <td>PewDiePie</td>\n",
       "      <td>PewDiePie</td>\n",
       "      <td>Animation</td>\n",
       "      <td>111.4M</td>\n",
       "      <td>United States</td>\n",
       "      <td>1.4M</td>\n",
       "      <td>80.8K</td>\n",
       "      <td>4.6K</td>\n",
       "    </tr>\n",
       "    <tr>\n",
       "      <th>4</th>\n",
       "      <td>MrBeast6000</td>\n",
       "      <td>MrBeast</td>\n",
       "      <td>Video games</td>\n",
       "      <td>92.5M</td>\n",
       "      <td>United States</td>\n",
       "      <td>30.6M</td>\n",
       "      <td>1.7M</td>\n",
       "      <td>67.7K</td>\n",
       "    </tr>\n",
       "  </tbody>\n",
       "</table>\n",
       "</div>"
      ],
      "text/plain": [
       "  youtuber name                channel name       Category Subscribers  \\\n",
       "0       tseries                    T-Series  Music & Dance      212.1M   \n",
       "1     checkgate  Cocomelon - Nursery Rhymes      Education      132.1M   \n",
       "2      setindia                   SET India            NaN      130.4M   \n",
       "3     PewDiePie                   PewDiePie      Animation      111.4M   \n",
       "4   MrBeast6000                     MrBeast    Video games       92.5M   \n",
       "\n",
       "  Audience Country avg views avg likes avg comments  \n",
       "0            India    323.7K      9.8K          290  \n",
       "1              NaN     13.8M     80.9K          NaN  \n",
       "2            India     23.6K       314           21  \n",
       "3    United States      1.4M     80.8K         4.6K  \n",
       "4    United States     30.6M      1.7M        67.7K  "
      ]
     },
     "execution_count": 3,
     "metadata": {},
     "output_type": "execute_result"
    }
   ],
   "source": [
    "df = pd.read_csv(\"social media influencers - youtube.csv\")\n",
    "df.head()"
   ]
  },
  {
   "cell_type": "markdown",
   "id": "f8f4f02d",
   "metadata": {},
   "source": [
    "## Cleaning and Preparing Data "
   ]
  },
  {
   "cell_type": "code",
   "execution_count": 4,
   "id": "5fb64482",
   "metadata": {},
   "outputs": [
    {
     "data": {
      "text/html": [
       "<div>\n",
       "<style scoped>\n",
       "    .dataframe tbody tr th:only-of-type {\n",
       "        vertical-align: middle;\n",
       "    }\n",
       "\n",
       "    .dataframe tbody tr th {\n",
       "        vertical-align: top;\n",
       "    }\n",
       "\n",
       "    .dataframe thead th {\n",
       "        text-align: right;\n",
       "    }\n",
       "</style>\n",
       "<table border=\"1\" class=\"dataframe\">\n",
       "  <thead>\n",
       "    <tr style=\"text-align: right;\">\n",
       "      <th></th>\n",
       "      <th>youtuber name</th>\n",
       "      <th>channel name</th>\n",
       "      <th>Category</th>\n",
       "      <th>Subscribers</th>\n",
       "      <th>Audience Country</th>\n",
       "      <th>avg views</th>\n",
       "      <th>avg likes</th>\n",
       "      <th>avg comments</th>\n",
       "    </tr>\n",
       "  </thead>\n",
       "  <tbody>\n",
       "    <tr>\n",
       "      <th>count</th>\n",
       "      <td>1000</td>\n",
       "      <td>1000</td>\n",
       "      <td>723</td>\n",
       "      <td>1000</td>\n",
       "      <td>839</td>\n",
       "      <td>1000</td>\n",
       "      <td>962</td>\n",
       "      <td>791</td>\n",
       "    </tr>\n",
       "    <tr>\n",
       "      <th>unique</th>\n",
       "      <td>998</td>\n",
       "      <td>998</td>\n",
       "      <td>23</td>\n",
       "      <td>228</td>\n",
       "      <td>27</td>\n",
       "      <td>743</td>\n",
       "      <td>615</td>\n",
       "      <td>420</td>\n",
       "    </tr>\n",
       "    <tr>\n",
       "      <th>top</th>\n",
       "      <td>ETV Jabardasth</td>\n",
       "      <td>ETV Jabardasth</td>\n",
       "      <td>Music &amp; Dance</td>\n",
       "      <td>10.1M</td>\n",
       "      <td>United States</td>\n",
       "      <td>1.1M</td>\n",
       "      <td>1.2K</td>\n",
       "      <td>1.8K</td>\n",
       "    </tr>\n",
       "    <tr>\n",
       "      <th>freq</th>\n",
       "      <td>2</td>\n",
       "      <td>2</td>\n",
       "      <td>224</td>\n",
       "      <td>34</td>\n",
       "      <td>291</td>\n",
       "      <td>18</td>\n",
       "      <td>17</td>\n",
       "      <td>14</td>\n",
       "    </tr>\n",
       "  </tbody>\n",
       "</table>\n",
       "</div>"
      ],
      "text/plain": [
       "         youtuber name    channel name       Category Subscribers  \\\n",
       "count             1000            1000            723        1000   \n",
       "unique             998             998             23         228   \n",
       "top     ETV Jabardasth  ETV Jabardasth  Music & Dance       10.1M   \n",
       "freq                 2               2            224          34   \n",
       "\n",
       "       Audience Country avg views avg likes avg comments  \n",
       "count               839      1000       962          791  \n",
       "unique               27       743       615          420  \n",
       "top       United States      1.1M      1.2K         1.8K  \n",
       "freq                291        18        17           14  "
      ]
     },
     "execution_count": 4,
     "metadata": {},
     "output_type": "execute_result"
    }
   ],
   "source": [
    "df.describe()"
   ]
  },
  {
   "cell_type": "code",
   "execution_count": 5,
   "id": "ca7e2beb",
   "metadata": {},
   "outputs": [
    {
     "name": "stdout",
     "output_type": "stream",
     "text": [
      "<class 'pandas.core.frame.DataFrame'>\n",
      "RangeIndex: 1000 entries, 0 to 999\n",
      "Data columns (total 8 columns):\n",
      " #   Column            Non-Null Count  Dtype \n",
      "---  ------            --------------  ----- \n",
      " 0   youtuber name     1000 non-null   object\n",
      " 1   channel name      1000 non-null   object\n",
      " 2   Category          723 non-null    object\n",
      " 3   Subscribers       1000 non-null   object\n",
      " 4   Audience Country  839 non-null    object\n",
      " 5   avg views         1000 non-null   object\n",
      " 6   avg likes         962 non-null    object\n",
      " 7   avg comments      791 non-null    object\n",
      "dtypes: object(8)\n",
      "memory usage: 62.6+ KB\n"
     ]
    }
   ],
   "source": [
    "df.info()"
   ]
  },
  {
   "cell_type": "markdown",
   "id": "be1d1f0d",
   "metadata": {},
   "source": [
    "#### Renaming the column names "
   ]
  },
  {
   "cell_type": "code",
   "execution_count": 6,
   "id": "b11f2aab",
   "metadata": {},
   "outputs": [
    {
     "data": {
      "text/plain": [
       "Index(['youtuber name', 'channel name', 'Category', 'Subscribers',\n",
       "       'Audience Country', 'avg views', 'avg likes', 'avg comments'],\n",
       "      dtype='object')"
      ]
     },
     "execution_count": 6,
     "metadata": {},
     "output_type": "execute_result"
    }
   ],
   "source": [
    "df.columns"
   ]
  },
  {
   "cell_type": "code",
   "execution_count": 7,
   "id": "c4546864",
   "metadata": {},
   "outputs": [],
   "source": [
    "df=df.rename(columns={\n",
    "    'youtuber name':'Youtuber_Name', \n",
    "    'channel name':'Channel_Name', \n",
    "    'Audience Country':'Audience_Country',\n",
    "    'avg views':'Average_Views',\n",
    "    'avg likes':'Average_Likes', \n",
    "    'avg comments':'Average_Comments'  \n",
    "})"
   ]
  },
  {
   "cell_type": "code",
   "execution_count": 8,
   "id": "e15166c7",
   "metadata": {},
   "outputs": [
    {
     "name": "stdout",
     "output_type": "stream",
     "text": [
      "<class 'pandas.core.frame.DataFrame'>\n",
      "RangeIndex: 1000 entries, 0 to 999\n",
      "Data columns (total 8 columns):\n",
      " #   Column            Non-Null Count  Dtype \n",
      "---  ------            --------------  ----- \n",
      " 0   Youtuber_Name     1000 non-null   object\n",
      " 1   Channel_Name      1000 non-null   object\n",
      " 2   Category          723 non-null    object\n",
      " 3   Subscribers       1000 non-null   object\n",
      " 4   Audience_Country  839 non-null    object\n",
      " 5   Average_Views     1000 non-null   object\n",
      " 6   Average_Likes     962 non-null    object\n",
      " 7   Average_Comments  791 non-null    object\n",
      "dtypes: object(8)\n",
      "memory usage: 62.6+ KB\n"
     ]
    }
   ],
   "source": [
    "df.info()"
   ]
  },
  {
   "cell_type": "code",
   "execution_count": 9,
   "id": "414246ed",
   "metadata": {},
   "outputs": [
    {
     "data": {
      "text/plain": [
       "(1000, 8)"
      ]
     },
     "execution_count": 9,
     "metadata": {},
     "output_type": "execute_result"
    }
   ],
   "source": [
    "df.shape"
   ]
  },
  {
   "cell_type": "code",
   "execution_count": 11,
   "id": "42ecd8ed",
   "metadata": {},
   "outputs": [
    {
     "data": {
      "text/html": [
       "<div>\n",
       "<style scoped>\n",
       "    .dataframe tbody tr th:only-of-type {\n",
       "        vertical-align: middle;\n",
       "    }\n",
       "\n",
       "    .dataframe tbody tr th {\n",
       "        vertical-align: top;\n",
       "    }\n",
       "\n",
       "    .dataframe thead th {\n",
       "        text-align: right;\n",
       "    }\n",
       "</style>\n",
       "<table border=\"1\" class=\"dataframe\">\n",
       "  <thead>\n",
       "    <tr style=\"text-align: right;\">\n",
       "      <th></th>\n",
       "      <th>Youtuber_Name</th>\n",
       "      <th>Channel_Name</th>\n",
       "      <th>Category</th>\n",
       "      <th>Subscribers</th>\n",
       "      <th>Audience_Country</th>\n",
       "      <th>Average_Views</th>\n",
       "      <th>Average_Likes</th>\n",
       "      <th>Average_Comments</th>\n",
       "    </tr>\n",
       "  </thead>\n",
       "  <tbody>\n",
       "    <tr>\n",
       "      <th>0</th>\n",
       "      <td>tseries</td>\n",
       "      <td>T-Series</td>\n",
       "      <td>Music &amp; Dance</td>\n",
       "      <td>212.1M</td>\n",
       "      <td>India</td>\n",
       "      <td>323.7K</td>\n",
       "      <td>9.8K</td>\n",
       "      <td>290</td>\n",
       "    </tr>\n",
       "    <tr>\n",
       "      <th>1</th>\n",
       "      <td>checkgate</td>\n",
       "      <td>Cocomelon - Nursery Rhymes</td>\n",
       "      <td>Education</td>\n",
       "      <td>132.1M</td>\n",
       "      <td>NaN</td>\n",
       "      <td>13.8M</td>\n",
       "      <td>80.9K</td>\n",
       "      <td>NaN</td>\n",
       "    </tr>\n",
       "    <tr>\n",
       "      <th>2</th>\n",
       "      <td>setindia</td>\n",
       "      <td>SET India</td>\n",
       "      <td>NaN</td>\n",
       "      <td>130.4M</td>\n",
       "      <td>India</td>\n",
       "      <td>23.6K</td>\n",
       "      <td>314</td>\n",
       "      <td>21</td>\n",
       "    </tr>\n",
       "    <tr>\n",
       "      <th>3</th>\n",
       "      <td>PewDiePie</td>\n",
       "      <td>PewDiePie</td>\n",
       "      <td>Animation</td>\n",
       "      <td>111.4M</td>\n",
       "      <td>United States</td>\n",
       "      <td>1.4M</td>\n",
       "      <td>80.8K</td>\n",
       "      <td>4.6K</td>\n",
       "    </tr>\n",
       "    <tr>\n",
       "      <th>4</th>\n",
       "      <td>MrBeast6000</td>\n",
       "      <td>MrBeast</td>\n",
       "      <td>Video games</td>\n",
       "      <td>92.5M</td>\n",
       "      <td>United States</td>\n",
       "      <td>30.6M</td>\n",
       "      <td>1.7M</td>\n",
       "      <td>67.7K</td>\n",
       "    </tr>\n",
       "    <tr>\n",
       "      <th>5</th>\n",
       "      <td>✿ Kids Diana Show</td>\n",
       "      <td>✿ Kids Diana Show</td>\n",
       "      <td>Animation</td>\n",
       "      <td>92.4M</td>\n",
       "      <td>NaN</td>\n",
       "      <td>10.6M</td>\n",
       "      <td>46.8K</td>\n",
       "      <td>NaN</td>\n",
       "    </tr>\n",
       "    <tr>\n",
       "      <th>6</th>\n",
       "      <td>Like Nastya</td>\n",
       "      <td>Like Nastya</td>\n",
       "      <td>Animation</td>\n",
       "      <td>90.1M</td>\n",
       "      <td>NaN</td>\n",
       "      <td>13.7M</td>\n",
       "      <td>74.2K</td>\n",
       "      <td>NaN</td>\n",
       "    </tr>\n",
       "    <tr>\n",
       "      <th>7</th>\n",
       "      <td>WWEFanNation</td>\n",
       "      <td>WWE</td>\n",
       "      <td>Video games</td>\n",
       "      <td>86.9M</td>\n",
       "      <td>United States</td>\n",
       "      <td>76.6K</td>\n",
       "      <td>2.8K</td>\n",
       "      <td>163</td>\n",
       "    </tr>\n",
       "    <tr>\n",
       "      <th>8</th>\n",
       "      <td>zeemusiccompany</td>\n",
       "      <td>Zee Music Company</td>\n",
       "      <td>Music &amp; Dance</td>\n",
       "      <td>82.7M</td>\n",
       "      <td>India</td>\n",
       "      <td>108.7K</td>\n",
       "      <td>4.2K</td>\n",
       "      <td>155</td>\n",
       "    </tr>\n",
       "    <tr>\n",
       "      <th>9</th>\n",
       "      <td>Vlad and Niki</td>\n",
       "      <td>Vlad and Niki</td>\n",
       "      <td>Toys</td>\n",
       "      <td>80.4M</td>\n",
       "      <td>NaN</td>\n",
       "      <td>7M</td>\n",
       "      <td>42.2K</td>\n",
       "      <td>NaN</td>\n",
       "    </tr>\n",
       "    <tr>\n",
       "      <th>10</th>\n",
       "      <td>5-Minute Crafts</td>\n",
       "      <td>5-Minute Crafts</td>\n",
       "      <td>NaN</td>\n",
       "      <td>76.2M</td>\n",
       "      <td>United States</td>\n",
       "      <td>255.6K</td>\n",
       "      <td>2.1K</td>\n",
       "      <td>68</td>\n",
       "    </tr>\n",
       "    <tr>\n",
       "      <th>11</th>\n",
       "      <td>kidrauhl</td>\n",
       "      <td>Justin Bieber</td>\n",
       "      <td>Music &amp; Dance</td>\n",
       "      <td>68.1M</td>\n",
       "      <td>United States</td>\n",
       "      <td>2.7M</td>\n",
       "      <td>162.7K</td>\n",
       "      <td>7.9K</td>\n",
       "    </tr>\n",
       "    <tr>\n",
       "      <th>12</th>\n",
       "      <td>GoldminesTelefilms</td>\n",
       "      <td>Goldmines</td>\n",
       "      <td>NaN</td>\n",
       "      <td>67.9M</td>\n",
       "      <td>India</td>\n",
       "      <td>107.1K</td>\n",
       "      <td>1K</td>\n",
       "      <td>39</td>\n",
       "    </tr>\n",
       "    <tr>\n",
       "      <th>13</th>\n",
       "      <td>CanalKondZilla</td>\n",
       "      <td>Canal KondZilla</td>\n",
       "      <td>Music &amp; Dance</td>\n",
       "      <td>65.5M</td>\n",
       "      <td>Brazil</td>\n",
       "      <td>36.8K</td>\n",
       "      <td>2.3K</td>\n",
       "      <td>153</td>\n",
       "    </tr>\n",
       "    <tr>\n",
       "      <th>14</th>\n",
       "      <td>BANGTANTV</td>\n",
       "      <td>BANGTANTV</td>\n",
       "      <td>Music &amp; Dance</td>\n",
       "      <td>65M</td>\n",
       "      <td>United States</td>\n",
       "      <td>2.8M</td>\n",
       "      <td>598.9K</td>\n",
       "      <td>14.2K</td>\n",
       "    </tr>\n",
       "    <tr>\n",
       "      <th>15</th>\n",
       "      <td>sabtv</td>\n",
       "      <td>Sony SAB</td>\n",
       "      <td>Movies</td>\n",
       "      <td>64.9M</td>\n",
       "      <td>India</td>\n",
       "      <td>46.5K</td>\n",
       "      <td>899</td>\n",
       "      <td>27</td>\n",
       "    </tr>\n",
       "    <tr>\n",
       "      <th>16</th>\n",
       "      <td>ibighit</td>\n",
       "      <td>HYBE LABELS</td>\n",
       "      <td>Music &amp; Dance</td>\n",
       "      <td>64.7M</td>\n",
       "      <td>United States</td>\n",
       "      <td>401.7K</td>\n",
       "      <td>62.3K</td>\n",
       "      <td>2.6K</td>\n",
       "    </tr>\n",
       "    <tr>\n",
       "      <th>17</th>\n",
       "      <td>zeetv</td>\n",
       "      <td>Zee TV</td>\n",
       "      <td>NaN</td>\n",
       "      <td>61.5M</td>\n",
       "      <td>India</td>\n",
       "      <td>146.2K</td>\n",
       "      <td>1.8K</td>\n",
       "      <td>17</td>\n",
       "    </tr>\n",
       "    <tr>\n",
       "      <th>18</th>\n",
       "      <td>filmigaane</td>\n",
       "      <td>Shemaroo Filmi Gaane</td>\n",
       "      <td>Music &amp; Dance</td>\n",
       "      <td>59.2M</td>\n",
       "      <td>India</td>\n",
       "      <td>64.5K</td>\n",
       "      <td>631</td>\n",
       "      <td>33</td>\n",
       "    </tr>\n",
       "    <tr>\n",
       "      <th>19</th>\n",
       "      <td>corycotton</td>\n",
       "      <td>Dude Perfect</td>\n",
       "      <td>Video games</td>\n",
       "      <td>57.4M</td>\n",
       "      <td>United States</td>\n",
       "      <td>10.3M</td>\n",
       "      <td>375.7K</td>\n",
       "      <td>9.1K</td>\n",
       "    </tr>\n",
       "  </tbody>\n",
       "</table>\n",
       "</div>"
      ],
      "text/plain": [
       "         Youtuber_Name                Channel_Name       Category Subscribers  \\\n",
       "0              tseries                    T-Series  Music & Dance      212.1M   \n",
       "1            checkgate  Cocomelon - Nursery Rhymes      Education      132.1M   \n",
       "2             setindia                   SET India            NaN      130.4M   \n",
       "3            PewDiePie                   PewDiePie      Animation      111.4M   \n",
       "4          MrBeast6000                     MrBeast    Video games       92.5M   \n",
       "5    ✿ Kids Diana Show           ✿ Kids Diana Show      Animation       92.4M   \n",
       "6          Like Nastya                 Like Nastya      Animation       90.1M   \n",
       "7         WWEFanNation                         WWE    Video games       86.9M   \n",
       "8      zeemusiccompany           Zee Music Company  Music & Dance       82.7M   \n",
       "9        Vlad and Niki               Vlad and Niki           Toys       80.4M   \n",
       "10     5-Minute Crafts             5-Minute Crafts            NaN       76.2M   \n",
       "11            kidrauhl               Justin Bieber  Music & Dance       68.1M   \n",
       "12  GoldminesTelefilms                   Goldmines            NaN       67.9M   \n",
       "13      CanalKondZilla             Canal KondZilla  Music & Dance       65.5M   \n",
       "14           BANGTANTV                   BANGTANTV  Music & Dance         65M   \n",
       "15               sabtv                    Sony SAB         Movies       64.9M   \n",
       "16             ibighit                 HYBE LABELS  Music & Dance       64.7M   \n",
       "17               zeetv                      Zee TV            NaN       61.5M   \n",
       "18          filmigaane        Shemaroo Filmi Gaane  Music & Dance       59.2M   \n",
       "19          corycotton                Dude Perfect    Video games       57.4M   \n",
       "\n",
       "   Audience_Country Average_Views Average_Likes Average_Comments  \n",
       "0             India        323.7K          9.8K              290  \n",
       "1               NaN         13.8M         80.9K              NaN  \n",
       "2             India         23.6K           314               21  \n",
       "3     United States          1.4M         80.8K             4.6K  \n",
       "4     United States         30.6M          1.7M            67.7K  \n",
       "5               NaN         10.6M         46.8K              NaN  \n",
       "6               NaN         13.7M         74.2K              NaN  \n",
       "7     United States         76.6K          2.8K              163  \n",
       "8             India        108.7K          4.2K              155  \n",
       "9               NaN            7M         42.2K              NaN  \n",
       "10    United States        255.6K          2.1K               68  \n",
       "11    United States          2.7M        162.7K             7.9K  \n",
       "12            India        107.1K            1K               39  \n",
       "13           Brazil         36.8K          2.3K              153  \n",
       "14    United States          2.8M        598.9K            14.2K  \n",
       "15            India         46.5K           899               27  \n",
       "16    United States        401.7K         62.3K             2.6K  \n",
       "17            India        146.2K          1.8K               17  \n",
       "18            India         64.5K           631               33  \n",
       "19    United States         10.3M        375.7K             9.1K  "
      ]
     },
     "execution_count": 11,
     "metadata": {},
     "output_type": "execute_result"
    }
   ],
   "source": [
    "df.head(20)"
   ]
  },
  {
   "cell_type": "markdown",
   "id": "af080861",
   "metadata": {},
   "source": [
    "#### Checking and removing duplicate values "
   ]
  },
  {
   "cell_type": "code",
   "execution_count": 14,
   "id": "93c8a545",
   "metadata": {},
   "outputs": [
    {
     "data": {
      "text/html": [
       "<div>\n",
       "<style scoped>\n",
       "    .dataframe tbody tr th:only-of-type {\n",
       "        vertical-align: middle;\n",
       "    }\n",
       "\n",
       "    .dataframe tbody tr th {\n",
       "        vertical-align: top;\n",
       "    }\n",
       "\n",
       "    .dataframe thead th {\n",
       "        text-align: right;\n",
       "    }\n",
       "</style>\n",
       "<table border=\"1\" class=\"dataframe\">\n",
       "  <thead>\n",
       "    <tr style=\"text-align: right;\">\n",
       "      <th></th>\n",
       "      <th>Youtuber_Name</th>\n",
       "      <th>Channel_Name</th>\n",
       "      <th>Category</th>\n",
       "      <th>Subscribers</th>\n",
       "      <th>Audience_Country</th>\n",
       "      <th>Average_Views</th>\n",
       "      <th>Average_Likes</th>\n",
       "      <th>Average_Comments</th>\n",
       "    </tr>\n",
       "  </thead>\n",
       "  <tbody>\n",
       "    <tr>\n",
       "      <th>550</th>\n",
       "      <td>ETV Jabardasth</td>\n",
       "      <td>ETV Jabardasth</td>\n",
       "      <td>NaN</td>\n",
       "      <td>12.5M</td>\n",
       "      <td>India</td>\n",
       "      <td>192.6K</td>\n",
       "      <td>2.7K</td>\n",
       "      <td>44</td>\n",
       "    </tr>\n",
       "  </tbody>\n",
       "</table>\n",
       "</div>"
      ],
      "text/plain": [
       "      Youtuber_Name    Channel_Name Category Subscribers Audience_Country  \\\n",
       "550  ETV Jabardasth  ETV Jabardasth      NaN       12.5M            India   \n",
       "\n",
       "    Average_Views Average_Likes Average_Comments  \n",
       "550        192.6K          2.7K               44  "
      ]
     },
     "execution_count": 14,
     "metadata": {},
     "output_type": "execute_result"
    }
   ],
   "source": [
    "df.loc[df.duplicated()]"
   ]
  },
  {
   "cell_type": "code",
   "execution_count": 15,
   "id": "afbcae56",
   "metadata": {},
   "outputs": [
    {
     "data": {
      "text/html": [
       "<div>\n",
       "<style scoped>\n",
       "    .dataframe tbody tr th:only-of-type {\n",
       "        vertical-align: middle;\n",
       "    }\n",
       "\n",
       "    .dataframe tbody tr th {\n",
       "        vertical-align: top;\n",
       "    }\n",
       "\n",
       "    .dataframe thead th {\n",
       "        text-align: right;\n",
       "    }\n",
       "</style>\n",
       "<table border=\"1\" class=\"dataframe\">\n",
       "  <thead>\n",
       "    <tr style=\"text-align: right;\">\n",
       "      <th></th>\n",
       "      <th>Youtuber_Name</th>\n",
       "      <th>Channel_Name</th>\n",
       "      <th>Category</th>\n",
       "      <th>Subscribers</th>\n",
       "      <th>Audience_Country</th>\n",
       "      <th>Average_Views</th>\n",
       "      <th>Average_Likes</th>\n",
       "      <th>Average_Comments</th>\n",
       "    </tr>\n",
       "  </thead>\n",
       "  <tbody>\n",
       "    <tr>\n",
       "      <th>549</th>\n",
       "      <td>ETV Jabardasth</td>\n",
       "      <td>ETV Jabardasth</td>\n",
       "      <td>NaN</td>\n",
       "      <td>12.5M</td>\n",
       "      <td>India</td>\n",
       "      <td>192.6K</td>\n",
       "      <td>2.7K</td>\n",
       "      <td>44</td>\n",
       "    </tr>\n",
       "    <tr>\n",
       "      <th>550</th>\n",
       "      <td>ETV Jabardasth</td>\n",
       "      <td>ETV Jabardasth</td>\n",
       "      <td>NaN</td>\n",
       "      <td>12.5M</td>\n",
       "      <td>India</td>\n",
       "      <td>192.6K</td>\n",
       "      <td>2.7K</td>\n",
       "      <td>44</td>\n",
       "    </tr>\n",
       "  </tbody>\n",
       "</table>\n",
       "</div>"
      ],
      "text/plain": [
       "      Youtuber_Name    Channel_Name Category Subscribers Audience_Country  \\\n",
       "549  ETV Jabardasth  ETV Jabardasth      NaN       12.5M            India   \n",
       "550  ETV Jabardasth  ETV Jabardasth      NaN       12.5M            India   \n",
       "\n",
       "    Average_Views Average_Likes Average_Comments  \n",
       "549        192.6K          2.7K               44  \n",
       "550        192.6K          2.7K               44  "
      ]
     },
     "execution_count": 15,
     "metadata": {},
     "output_type": "execute_result"
    }
   ],
   "source": [
    "df.query('Youtuber_Name == \"ETV Jabardasth\"')"
   ]
  },
  {
   "cell_type": "code",
   "execution_count": 16,
   "id": "9d86e5ad",
   "metadata": {},
   "outputs": [],
   "source": [
    "df = df.loc[~df.duplicated(subset=[\"Youtuber_Name\"])] \\\n",
    "    .reset_index(drop=True).copy()"
   ]
  },
  {
   "cell_type": "code",
   "execution_count": 17,
   "id": "774d0c3e",
   "metadata": {},
   "outputs": [
    {
     "data": {
      "text/html": [
       "<div>\n",
       "<style scoped>\n",
       "    .dataframe tbody tr th:only-of-type {\n",
       "        vertical-align: middle;\n",
       "    }\n",
       "\n",
       "    .dataframe tbody tr th {\n",
       "        vertical-align: top;\n",
       "    }\n",
       "\n",
       "    .dataframe thead th {\n",
       "        text-align: right;\n",
       "    }\n",
       "</style>\n",
       "<table border=\"1\" class=\"dataframe\">\n",
       "  <thead>\n",
       "    <tr style=\"text-align: right;\">\n",
       "      <th></th>\n",
       "      <th>Youtuber_Name</th>\n",
       "      <th>Channel_Name</th>\n",
       "      <th>Category</th>\n",
       "      <th>Subscribers</th>\n",
       "      <th>Audience_Country</th>\n",
       "      <th>Average_Views</th>\n",
       "      <th>Average_Likes</th>\n",
       "      <th>Average_Comments</th>\n",
       "    </tr>\n",
       "  </thead>\n",
       "  <tbody>\n",
       "  </tbody>\n",
       "</table>\n",
       "</div>"
      ],
      "text/plain": [
       "Empty DataFrame\n",
       "Columns: [Youtuber_Name, Channel_Name, Category, Subscribers, Audience_Country, Average_Views, Average_Likes, Average_Comments]\n",
       "Index: []"
      ]
     },
     "execution_count": 17,
     "metadata": {},
     "output_type": "execute_result"
    }
   ],
   "source": [
    "df.loc[df.duplicated()]"
   ]
  },
  {
   "cell_type": "markdown",
   "id": "8ae8cb98",
   "metadata": {},
   "source": [
    "#### substitute Nan value with unknown "
   ]
  },
  {
   "cell_type": "code",
   "execution_count": 19,
   "id": "808547ca",
   "metadata": {},
   "outputs": [],
   "source": [
    "df[\"Category\"].fillna((\"Unknown\"),inplace=True)"
   ]
  },
  {
   "cell_type": "code",
   "execution_count": 20,
   "id": "a1e20dcf",
   "metadata": {},
   "outputs": [
    {
     "name": "stdout",
     "output_type": "stream",
     "text": [
      "<class 'pandas.core.frame.DataFrame'>\n",
      "RangeIndex: 998 entries, 0 to 997\n",
      "Data columns (total 8 columns):\n",
      " #   Column            Non-Null Count  Dtype \n",
      "---  ------            --------------  ----- \n",
      " 0   Youtuber_Name     998 non-null    object\n",
      " 1   Channel_Name      998 non-null    object\n",
      " 2   Category          998 non-null    object\n",
      " 3   Subscribers       998 non-null    object\n",
      " 4   Audience_Country  837 non-null    object\n",
      " 5   Average_Views     998 non-null    object\n",
      " 6   Average_Likes     960 non-null    object\n",
      " 7   Average_Comments  789 non-null    object\n",
      "dtypes: object(8)\n",
      "memory usage: 62.5+ KB\n"
     ]
    }
   ],
   "source": [
    "df.info()"
   ]
  },
  {
   "cell_type": "code",
   "execution_count": 21,
   "id": "b1697738",
   "metadata": {},
   "outputs": [],
   "source": [
    "df[\"Audience_Country\"].fillna((\"Unknown\"),inplace=True)"
   ]
  },
  {
   "cell_type": "code",
   "execution_count": 22,
   "id": "7aeed7a6",
   "metadata": {},
   "outputs": [
    {
     "name": "stdout",
     "output_type": "stream",
     "text": [
      "<class 'pandas.core.frame.DataFrame'>\n",
      "RangeIndex: 998 entries, 0 to 997\n",
      "Data columns (total 8 columns):\n",
      " #   Column            Non-Null Count  Dtype \n",
      "---  ------            --------------  ----- \n",
      " 0   Youtuber_Name     998 non-null    object\n",
      " 1   Channel_Name      998 non-null    object\n",
      " 2   Category          998 non-null    object\n",
      " 3   Subscribers       998 non-null    object\n",
      " 4   Audience_Country  998 non-null    object\n",
      " 5   Average_Views     998 non-null    object\n",
      " 6   Average_Likes     960 non-null    object\n",
      " 7   Average_Comments  789 non-null    object\n",
      "dtypes: object(8)\n",
      "memory usage: 62.5+ KB\n"
     ]
    }
   ],
   "source": [
    "df.info()"
   ]
  },
  {
   "cell_type": "code",
   "execution_count": 31,
   "id": "d56f8a9c",
   "metadata": {},
   "outputs": [],
   "source": [
    "df.sort_values(by='Subscribers',ascending=False,inplace=True)"
   ]
  },
  {
   "cell_type": "code",
   "execution_count": 32,
   "id": "4db1479e",
   "metadata": {},
   "outputs": [
    {
     "data": {
      "text/html": [
       "<div>\n",
       "<style scoped>\n",
       "    .dataframe tbody tr th:only-of-type {\n",
       "        vertical-align: middle;\n",
       "    }\n",
       "\n",
       "    .dataframe tbody tr th {\n",
       "        vertical-align: top;\n",
       "    }\n",
       "\n",
       "    .dataframe thead th {\n",
       "        text-align: right;\n",
       "    }\n",
       "</style>\n",
       "<table border=\"1\" class=\"dataframe\">\n",
       "  <thead>\n",
       "    <tr style=\"text-align: right;\">\n",
       "      <th></th>\n",
       "      <th>Youtuber_Name</th>\n",
       "      <th>Channel_Name</th>\n",
       "      <th>Category</th>\n",
       "      <th>Subscribers</th>\n",
       "      <th>Audience_Country</th>\n",
       "      <th>Average_Views</th>\n",
       "      <th>Average_Likes</th>\n",
       "      <th>Average_Comments</th>\n",
       "    </tr>\n",
       "  </thead>\n",
       "  <tbody>\n",
       "    <tr>\n",
       "      <th>4</th>\n",
       "      <td>MrBeast6000</td>\n",
       "      <td>MrBeast</td>\n",
       "      <td>Video games</td>\n",
       "      <td>92.5M</td>\n",
       "      <td>United States</td>\n",
       "      <td>30.6M</td>\n",
       "      <td>1.7M</td>\n",
       "      <td>67.7K</td>\n",
       "    </tr>\n",
       "    <tr>\n",
       "      <th>5</th>\n",
       "      <td>✿ Kids Diana Show</td>\n",
       "      <td>✿ Kids Diana Show</td>\n",
       "      <td>Animation</td>\n",
       "      <td>92.4M</td>\n",
       "      <td>Unknown</td>\n",
       "      <td>10.6M</td>\n",
       "      <td>46.8K</td>\n",
       "      <td>NaN</td>\n",
       "    </tr>\n",
       "    <tr>\n",
       "      <th>6</th>\n",
       "      <td>Like Nastya</td>\n",
       "      <td>Like Nastya</td>\n",
       "      <td>Animation</td>\n",
       "      <td>90.1M</td>\n",
       "      <td>Unknown</td>\n",
       "      <td>13.7M</td>\n",
       "      <td>74.2K</td>\n",
       "      <td>NaN</td>\n",
       "    </tr>\n",
       "    <tr>\n",
       "      <th>861</th>\n",
       "      <td>BestCodComedy</td>\n",
       "      <td>BCC Gaming</td>\n",
       "      <td>Video games</td>\n",
       "      <td>9.9M</td>\n",
       "      <td>United States</td>\n",
       "      <td>2.3K</td>\n",
       "      <td>75</td>\n",
       "      <td>8</td>\n",
       "    </tr>\n",
       "    <tr>\n",
       "      <th>873</th>\n",
       "      <td>Will Smith</td>\n",
       "      <td>Will Smith</td>\n",
       "      <td>Movies</td>\n",
       "      <td>9.9M</td>\n",
       "      <td>United States</td>\n",
       "      <td>332.2K</td>\n",
       "      <td>10.5K</td>\n",
       "      <td>5.5K</td>\n",
       "    </tr>\n",
       "    <tr>\n",
       "      <th>872</th>\n",
       "      <td>Nickelodeon</td>\n",
       "      <td>Nickelodeon</td>\n",
       "      <td>Movies</td>\n",
       "      <td>9.9M</td>\n",
       "      <td>Unknown</td>\n",
       "      <td>60K</td>\n",
       "      <td>767</td>\n",
       "      <td>NaN</td>\n",
       "    </tr>\n",
       "    <tr>\n",
       "      <th>869</th>\n",
       "      <td>historychannel</td>\n",
       "      <td>HISTORY</td>\n",
       "      <td>Unknown</td>\n",
       "      <td>9.9M</td>\n",
       "      <td>United States</td>\n",
       "      <td>71.2K</td>\n",
       "      <td>1.3K</td>\n",
       "      <td>108</td>\n",
       "    </tr>\n",
       "    <tr>\n",
       "      <th>860</th>\n",
       "      <td>whoisjimmy</td>\n",
       "      <td>How Ridiculous</td>\n",
       "      <td>Sports</td>\n",
       "      <td>9.9M</td>\n",
       "      <td>United States</td>\n",
       "      <td>25.5M</td>\n",
       "      <td>750.3K</td>\n",
       "      <td>5.2K</td>\n",
       "    </tr>\n",
       "    <tr>\n",
       "      <th>875</th>\n",
       "      <td>WAMIndiaMovies</td>\n",
       "      <td>Wamindia Movies</td>\n",
       "      <td>Unknown</td>\n",
       "      <td>9.9M</td>\n",
       "      <td>India</td>\n",
       "      <td>138.5K</td>\n",
       "      <td>2.2K</td>\n",
       "      <td>41</td>\n",
       "    </tr>\n",
       "    <tr>\n",
       "      <th>874</th>\n",
       "      <td>Heroine Movies 2022</td>\n",
       "      <td>Heroine Movies 2022</td>\n",
       "      <td>Daily vlogs</td>\n",
       "      <td>9.9M</td>\n",
       "      <td>India</td>\n",
       "      <td>151.9K</td>\n",
       "      <td>1.1K</td>\n",
       "      <td>22</td>\n",
       "    </tr>\n",
       "  </tbody>\n",
       "</table>\n",
       "</div>"
      ],
      "text/plain": [
       "           Youtuber_Name         Channel_Name     Category Subscribers  \\\n",
       "4            MrBeast6000              MrBeast  Video games       92.5M   \n",
       "5      ✿ Kids Diana Show    ✿ Kids Diana Show    Animation       92.4M   \n",
       "6            Like Nastya          Like Nastya    Animation       90.1M   \n",
       "861        BestCodComedy           BCC Gaming  Video games        9.9M   \n",
       "873           Will Smith           Will Smith       Movies        9.9M   \n",
       "872          Nickelodeon          Nickelodeon       Movies        9.9M   \n",
       "869       historychannel              HISTORY      Unknown        9.9M   \n",
       "860           whoisjimmy       How Ridiculous       Sports        9.9M   \n",
       "875       WAMIndiaMovies      Wamindia Movies      Unknown        9.9M   \n",
       "874  Heroine Movies 2022  Heroine Movies 2022  Daily vlogs        9.9M   \n",
       "\n",
       "    Audience_Country Average_Views Average_Likes Average_Comments  \n",
       "4      United States         30.6M          1.7M            67.7K  \n",
       "5            Unknown         10.6M         46.8K              NaN  \n",
       "6            Unknown         13.7M         74.2K              NaN  \n",
       "861    United States          2.3K            75                8  \n",
       "873    United States        332.2K         10.5K             5.5K  \n",
       "872          Unknown           60K           767              NaN  \n",
       "869    United States         71.2K          1.3K              108  \n",
       "860    United States         25.5M        750.3K             5.2K  \n",
       "875            India        138.5K          2.2K               41  \n",
       "874            India        151.9K          1.1K               22  "
      ]
     },
     "execution_count": 32,
     "metadata": {},
     "output_type": "execute_result"
    }
   ],
   "source": [
    "df.head(10)"
   ]
  },
  {
   "cell_type": "markdown",
   "id": "831c1703",
   "metadata": {},
   "source": [
    "#### Converting M and K to numeric values (million and thousand conversion)"
   ]
  },
  {
   "cell_type": "code",
   "execution_count": 35,
   "id": "da310226",
   "metadata": {},
   "outputs": [],
   "source": [
    "def convert_to_numeric(value):\n",
    "    try:\n",
    "        suffix = value[-1]\n",
    "        if suffix == 'M':\n",
    "            constant = 1000000\n",
    "        elif suffix == 'K':\n",
    "            constant = 1000\n",
    "        else:\n",
    "            return value\n",
    "        return int(float(value[:-1]) * constant)\n",
    "    except:\n",
    "        return value"
   ]
  },
  {
   "cell_type": "code",
   "execution_count": 36,
   "id": "bb19d363",
   "metadata": {},
   "outputs": [],
   "source": [
    "df[\"Average_Views\"]=df[\"Average_Views\"].apply(convert_to_numeric)"
   ]
  },
  {
   "cell_type": "code",
   "execution_count": 37,
   "id": "61a3d016",
   "metadata": {},
   "outputs": [
    {
     "data": {
      "text/html": [
       "<div>\n",
       "<style scoped>\n",
       "    .dataframe tbody tr th:only-of-type {\n",
       "        vertical-align: middle;\n",
       "    }\n",
       "\n",
       "    .dataframe tbody tr th {\n",
       "        vertical-align: top;\n",
       "    }\n",
       "\n",
       "    .dataframe thead th {\n",
       "        text-align: right;\n",
       "    }\n",
       "</style>\n",
       "<table border=\"1\" class=\"dataframe\">\n",
       "  <thead>\n",
       "    <tr style=\"text-align: right;\">\n",
       "      <th></th>\n",
       "      <th>Youtuber_Name</th>\n",
       "      <th>Channel_Name</th>\n",
       "      <th>Category</th>\n",
       "      <th>Subscribers</th>\n",
       "      <th>Audience_Country</th>\n",
       "      <th>Average_Views</th>\n",
       "      <th>Average_Likes</th>\n",
       "      <th>Average_Comments</th>\n",
       "    </tr>\n",
       "  </thead>\n",
       "  <tbody>\n",
       "    <tr>\n",
       "      <th>4</th>\n",
       "      <td>MrBeast6000</td>\n",
       "      <td>MrBeast</td>\n",
       "      <td>Video games</td>\n",
       "      <td>92.5M</td>\n",
       "      <td>United States</td>\n",
       "      <td>30600000</td>\n",
       "      <td>1.7M</td>\n",
       "      <td>67.7K</td>\n",
       "    </tr>\n",
       "    <tr>\n",
       "      <th>5</th>\n",
       "      <td>✿ Kids Diana Show</td>\n",
       "      <td>✿ Kids Diana Show</td>\n",
       "      <td>Animation</td>\n",
       "      <td>92.4M</td>\n",
       "      <td>Unknown</td>\n",
       "      <td>10600000</td>\n",
       "      <td>46.8K</td>\n",
       "      <td>NaN</td>\n",
       "    </tr>\n",
       "    <tr>\n",
       "      <th>6</th>\n",
       "      <td>Like Nastya</td>\n",
       "      <td>Like Nastya</td>\n",
       "      <td>Animation</td>\n",
       "      <td>90.1M</td>\n",
       "      <td>Unknown</td>\n",
       "      <td>13700000</td>\n",
       "      <td>74.2K</td>\n",
       "      <td>NaN</td>\n",
       "    </tr>\n",
       "    <tr>\n",
       "      <th>861</th>\n",
       "      <td>BestCodComedy</td>\n",
       "      <td>BCC Gaming</td>\n",
       "      <td>Video games</td>\n",
       "      <td>9.9M</td>\n",
       "      <td>United States</td>\n",
       "      <td>2300</td>\n",
       "      <td>75</td>\n",
       "      <td>8</td>\n",
       "    </tr>\n",
       "    <tr>\n",
       "      <th>873</th>\n",
       "      <td>Will Smith</td>\n",
       "      <td>Will Smith</td>\n",
       "      <td>Movies</td>\n",
       "      <td>9.9M</td>\n",
       "      <td>United States</td>\n",
       "      <td>332200</td>\n",
       "      <td>10.5K</td>\n",
       "      <td>5.5K</td>\n",
       "    </tr>\n",
       "  </tbody>\n",
       "</table>\n",
       "</div>"
      ],
      "text/plain": [
       "         Youtuber_Name       Channel_Name     Category Subscribers  \\\n",
       "4          MrBeast6000            MrBeast  Video games       92.5M   \n",
       "5    ✿ Kids Diana Show  ✿ Kids Diana Show    Animation       92.4M   \n",
       "6          Like Nastya        Like Nastya    Animation       90.1M   \n",
       "861      BestCodComedy         BCC Gaming  Video games        9.9M   \n",
       "873         Will Smith         Will Smith       Movies        9.9M   \n",
       "\n",
       "    Audience_Country Average_Views Average_Likes Average_Comments  \n",
       "4      United States      30600000          1.7M            67.7K  \n",
       "5            Unknown      10600000         46.8K              NaN  \n",
       "6            Unknown      13700000         74.2K              NaN  \n",
       "861    United States          2300            75                8  \n",
       "873    United States        332200         10.5K             5.5K  "
      ]
     },
     "execution_count": 37,
     "metadata": {},
     "output_type": "execute_result"
    }
   ],
   "source": [
    "df.head()"
   ]
  },
  {
   "cell_type": "markdown",
   "id": "5970262d",
   "metadata": {},
   "source": [
    "#### Converting from Object to Numeric data type "
   ]
  },
  {
   "cell_type": "code",
   "execution_count": 38,
   "id": "6462329d",
   "metadata": {},
   "outputs": [],
   "source": [
    "df[\"Subscribers\"]=df[\"Subscribers\"].apply(convert_to_numeric)"
   ]
  },
  {
   "cell_type": "code",
   "execution_count": 39,
   "id": "208ccdcd",
   "metadata": {},
   "outputs": [],
   "source": [
    "df[\"Average_Likes\"]=df[\"Average_Likes\"].apply(convert_to_numeric)"
   ]
  },
  {
   "cell_type": "code",
   "execution_count": 40,
   "id": "cccb7c7b",
   "metadata": {},
   "outputs": [],
   "source": [
    "df[\"Average_Comments\"]=df[\"Average_Comments\"].apply(convert_to_numeric)"
   ]
  },
  {
   "cell_type": "code",
   "execution_count": 41,
   "id": "8c3d0535",
   "metadata": {},
   "outputs": [
    {
     "data": {
      "text/html": [
       "<div>\n",
       "<style scoped>\n",
       "    .dataframe tbody tr th:only-of-type {\n",
       "        vertical-align: middle;\n",
       "    }\n",
       "\n",
       "    .dataframe tbody tr th {\n",
       "        vertical-align: top;\n",
       "    }\n",
       "\n",
       "    .dataframe thead th {\n",
       "        text-align: right;\n",
       "    }\n",
       "</style>\n",
       "<table border=\"1\" class=\"dataframe\">\n",
       "  <thead>\n",
       "    <tr style=\"text-align: right;\">\n",
       "      <th></th>\n",
       "      <th>Youtuber_Name</th>\n",
       "      <th>Channel_Name</th>\n",
       "      <th>Category</th>\n",
       "      <th>Subscribers</th>\n",
       "      <th>Audience_Country</th>\n",
       "      <th>Average_Views</th>\n",
       "      <th>Average_Likes</th>\n",
       "      <th>Average_Comments</th>\n",
       "    </tr>\n",
       "  </thead>\n",
       "  <tbody>\n",
       "    <tr>\n",
       "      <th>4</th>\n",
       "      <td>MrBeast6000</td>\n",
       "      <td>MrBeast</td>\n",
       "      <td>Video games</td>\n",
       "      <td>92500000</td>\n",
       "      <td>United States</td>\n",
       "      <td>30600000</td>\n",
       "      <td>1700000</td>\n",
       "      <td>67700</td>\n",
       "    </tr>\n",
       "    <tr>\n",
       "      <th>5</th>\n",
       "      <td>✿ Kids Diana Show</td>\n",
       "      <td>✿ Kids Diana Show</td>\n",
       "      <td>Animation</td>\n",
       "      <td>92400000</td>\n",
       "      <td>Unknown</td>\n",
       "      <td>10600000</td>\n",
       "      <td>46800</td>\n",
       "      <td>NaN</td>\n",
       "    </tr>\n",
       "    <tr>\n",
       "      <th>6</th>\n",
       "      <td>Like Nastya</td>\n",
       "      <td>Like Nastya</td>\n",
       "      <td>Animation</td>\n",
       "      <td>90100000</td>\n",
       "      <td>Unknown</td>\n",
       "      <td>13700000</td>\n",
       "      <td>74200</td>\n",
       "      <td>NaN</td>\n",
       "    </tr>\n",
       "    <tr>\n",
       "      <th>861</th>\n",
       "      <td>BestCodComedy</td>\n",
       "      <td>BCC Gaming</td>\n",
       "      <td>Video games</td>\n",
       "      <td>9900000</td>\n",
       "      <td>United States</td>\n",
       "      <td>2300</td>\n",
       "      <td>75</td>\n",
       "      <td>8</td>\n",
       "    </tr>\n",
       "    <tr>\n",
       "      <th>873</th>\n",
       "      <td>Will Smith</td>\n",
       "      <td>Will Smith</td>\n",
       "      <td>Movies</td>\n",
       "      <td>9900000</td>\n",
       "      <td>United States</td>\n",
       "      <td>332200</td>\n",
       "      <td>10500</td>\n",
       "      <td>5500</td>\n",
       "    </tr>\n",
       "  </tbody>\n",
       "</table>\n",
       "</div>"
      ],
      "text/plain": [
       "         Youtuber_Name       Channel_Name     Category  Subscribers  \\\n",
       "4          MrBeast6000            MrBeast  Video games     92500000   \n",
       "5    ✿ Kids Diana Show  ✿ Kids Diana Show    Animation     92400000   \n",
       "6          Like Nastya        Like Nastya    Animation     90100000   \n",
       "861      BestCodComedy         BCC Gaming  Video games      9900000   \n",
       "873         Will Smith         Will Smith       Movies      9900000   \n",
       "\n",
       "    Audience_Country Average_Views Average_Likes Average_Comments  \n",
       "4      United States      30600000       1700000            67700  \n",
       "5            Unknown      10600000         46800              NaN  \n",
       "6            Unknown      13700000         74200              NaN  \n",
       "861    United States          2300            75                8  \n",
       "873    United States        332200         10500             5500  "
      ]
     },
     "execution_count": 41,
     "metadata": {},
     "output_type": "execute_result"
    }
   ],
   "source": [
    "df.head()"
   ]
  },
  {
   "cell_type": "code",
   "execution_count": 42,
   "id": "c1cd11e2",
   "metadata": {},
   "outputs": [
    {
     "name": "stdout",
     "output_type": "stream",
     "text": [
      "<class 'pandas.core.frame.DataFrame'>\n",
      "Int64Index: 998 entries, 4 to 823\n",
      "Data columns (total 8 columns):\n",
      " #   Column            Non-Null Count  Dtype \n",
      "---  ------            --------------  ----- \n",
      " 0   Youtuber_Name     998 non-null    object\n",
      " 1   Channel_Name      998 non-null    object\n",
      " 2   Category          998 non-null    object\n",
      " 3   Subscribers       998 non-null    int64 \n",
      " 4   Audience_Country  998 non-null    object\n",
      " 5   Average_Views     998 non-null    object\n",
      " 6   Average_Likes     960 non-null    object\n",
      " 7   Average_Comments  789 non-null    object\n",
      "dtypes: int64(1), object(7)\n",
      "memory usage: 70.2+ KB\n"
     ]
    }
   ],
   "source": [
    "df.info()"
   ]
  },
  {
   "cell_type": "markdown",
   "id": "4d1685ce",
   "metadata": {},
   "source": [
    "#### Filling Nan Values with mean of adjacent values"
   ]
  },
  {
   "cell_type": "code",
   "execution_count": 44,
   "id": "3a7e78f5",
   "metadata": {},
   "outputs": [],
   "source": [
    "df['Average_Likes'] = pd.to_numeric(df['Average_Likes'], errors='coerce')"
   ]
  },
  {
   "cell_type": "code",
   "execution_count": 45,
   "id": "2b1ab240",
   "metadata": {},
   "outputs": [],
   "source": [
    "df['Average_Likes'].fillna((df['Average_Likes'].shift() + df['Average_Likes'].shift(-1)) / 2, inplace=True)"
   ]
  },
  {
   "cell_type": "code",
   "execution_count": 46,
   "id": "561038af",
   "metadata": {},
   "outputs": [],
   "source": [
    "df['Average_Comments'] = pd.to_numeric(df['Average_Comments'], errors='coerce')"
   ]
  },
  {
   "cell_type": "code",
   "execution_count": 47,
   "id": "2c8da9d1",
   "metadata": {},
   "outputs": [],
   "source": [
    "df['Average_Comments'].fillna((df['Average_Comments'].shift() + df['Average_Comments'].shift(-1)) / 2, inplace=True)"
   ]
  },
  {
   "cell_type": "code",
   "execution_count": 48,
   "id": "2b0cbc0c",
   "metadata": {},
   "outputs": [
    {
     "name": "stdout",
     "output_type": "stream",
     "text": [
      "<class 'pandas.core.frame.DataFrame'>\n",
      "Int64Index: 998 entries, 4 to 823\n",
      "Data columns (total 8 columns):\n",
      " #   Column            Non-Null Count  Dtype  \n",
      "---  ------            --------------  -----  \n",
      " 0   Youtuber_Name     998 non-null    object \n",
      " 1   Channel_Name      998 non-null    object \n",
      " 2   Category          998 non-null    object \n",
      " 3   Subscribers       998 non-null    int64  \n",
      " 4   Audience_Country  998 non-null    object \n",
      " 5   Average_Views     998 non-null    object \n",
      " 6   Average_Likes     996 non-null    float64\n",
      " 7   Average_Comments  921 non-null    float64\n",
      "dtypes: float64(2), int64(1), object(5)\n",
      "memory usage: 70.2+ KB\n"
     ]
    }
   ],
   "source": [
    "df.info()"
   ]
  },
  {
   "cell_type": "code",
   "execution_count": 54,
   "id": "04f8440c",
   "metadata": {},
   "outputs": [],
   "source": [
    "# mising = df[df.isna().any(axis=1)]\n",
    "# print(mising)"
   ]
  },
  {
   "cell_type": "code",
   "execution_count": 55,
   "id": "ceef1e3f",
   "metadata": {},
   "outputs": [],
   "source": [
    " df['Average_Views'] = pd.to_numeric(df['Average_Views'], errors='coerce')"
   ]
  },
  {
   "cell_type": "code",
   "execution_count": 56,
   "id": "1253aa77",
   "metadata": {},
   "outputs": [
    {
     "name": "stdout",
     "output_type": "stream",
     "text": [
      "<class 'pandas.core.frame.DataFrame'>\n",
      "Int64Index: 998 entries, 4 to 823\n",
      "Data columns (total 8 columns):\n",
      " #   Column            Non-Null Count  Dtype  \n",
      "---  ------            --------------  -----  \n",
      " 0   Youtuber_Name     998 non-null    object \n",
      " 1   Channel_Name      998 non-null    object \n",
      " 2   Category          998 non-null    object \n",
      " 3   Subscribers       998 non-null    int64  \n",
      " 4   Audience_Country  998 non-null    object \n",
      " 5   Average_Views     998 non-null    int64  \n",
      " 6   Average_Likes     996 non-null    float64\n",
      " 7   Average_Comments  921 non-null    float64\n",
      "dtypes: float64(2), int64(2), object(4)\n",
      "memory usage: 70.2+ KB\n"
     ]
    }
   ],
   "source": [
    "df.info()"
   ]
  },
  {
   "cell_type": "markdown",
   "id": "1c6d373f",
   "metadata": {},
   "source": [
    "## Answering Questions "
   ]
  },
  {
   "cell_type": "code",
   "execution_count": 58,
   "id": "23020925",
   "metadata": {},
   "outputs": [
    {
     "data": {
      "text/html": [
       "<div>\n",
       "<style scoped>\n",
       "    .dataframe tbody tr th:only-of-type {\n",
       "        vertical-align: middle;\n",
       "    }\n",
       "\n",
       "    .dataframe tbody tr th {\n",
       "        vertical-align: top;\n",
       "    }\n",
       "\n",
       "    .dataframe thead th {\n",
       "        text-align: right;\n",
       "    }\n",
       "</style>\n",
       "<table border=\"1\" class=\"dataframe\">\n",
       "  <thead>\n",
       "    <tr style=\"text-align: right;\">\n",
       "      <th></th>\n",
       "      <th>Subscribers</th>\n",
       "      <th>Average_Views</th>\n",
       "      <th>Average_Likes</th>\n",
       "      <th>Average_Comments</th>\n",
       "    </tr>\n",
       "  </thead>\n",
       "  <tbody>\n",
       "    <tr>\n",
       "      <th>count</th>\n",
       "      <td>9.980000e+02</td>\n",
       "      <td>9.980000e+02</td>\n",
       "      <td>9.960000e+02</td>\n",
       "      <td>921.000000</td>\n",
       "    </tr>\n",
       "    <tr>\n",
       "      <th>mean</th>\n",
       "      <td>1.741413e+07</td>\n",
       "      <td>1.102569e+06</td>\n",
       "      <td>5.165371e+04</td>\n",
       "      <td>3662.521716</td>\n",
       "    </tr>\n",
       "    <tr>\n",
       "      <th>std</th>\n",
       "      <td>1.381521e+07</td>\n",
       "      <td>3.441486e+06</td>\n",
       "      <td>2.117390e+05</td>\n",
       "      <td>16161.186844</td>\n",
       "    </tr>\n",
       "    <tr>\n",
       "      <th>min</th>\n",
       "      <td>9.200000e+06</td>\n",
       "      <td>0.000000e+00</td>\n",
       "      <td>5.000000e+00</td>\n",
       "      <td>1.000000</td>\n",
       "    </tr>\n",
       "    <tr>\n",
       "      <th>25%</th>\n",
       "      <td>1.070000e+07</td>\n",
       "      <td>5.430000e+04</td>\n",
       "      <td>1.300000e+03</td>\n",
       "      <td>75.000000</td>\n",
       "    </tr>\n",
       "    <tr>\n",
       "      <th>50%</th>\n",
       "      <td>1.330000e+07</td>\n",
       "      <td>2.672500e+05</td>\n",
       "      <td>6.400000e+03</td>\n",
       "      <td>372.000000</td>\n",
       "    </tr>\n",
       "    <tr>\n",
       "      <th>75%</th>\n",
       "      <td>1.835000e+07</td>\n",
       "      <td>9.254500e+05</td>\n",
       "      <td>4.020000e+04</td>\n",
       "      <td>1875.000000</td>\n",
       "    </tr>\n",
       "    <tr>\n",
       "      <th>max</th>\n",
       "      <td>2.121000e+08</td>\n",
       "      <td>8.050000e+07</td>\n",
       "      <td>5.600000e+06</td>\n",
       "      <td>313600.000000</td>\n",
       "    </tr>\n",
       "  </tbody>\n",
       "</table>\n",
       "</div>"
      ],
      "text/plain": [
       "        Subscribers  Average_Views  Average_Likes  Average_Comments\n",
       "count  9.980000e+02   9.980000e+02   9.960000e+02        921.000000\n",
       "mean   1.741413e+07   1.102569e+06   5.165371e+04       3662.521716\n",
       "std    1.381521e+07   3.441486e+06   2.117390e+05      16161.186844\n",
       "min    9.200000e+06   0.000000e+00   5.000000e+00          1.000000\n",
       "25%    1.070000e+07   5.430000e+04   1.300000e+03         75.000000\n",
       "50%    1.330000e+07   2.672500e+05   6.400000e+03        372.000000\n",
       "75%    1.835000e+07   9.254500e+05   4.020000e+04       1875.000000\n",
       "max    2.121000e+08   8.050000e+07   5.600000e+06     313600.000000"
      ]
     },
     "execution_count": 58,
     "metadata": {},
     "output_type": "execute_result"
    }
   ],
   "source": [
    "df.describe()"
   ]
  },
  {
   "cell_type": "code",
   "execution_count": 115,
   "id": "cf69d5bc",
   "metadata": {},
   "outputs": [
    {
     "name": "stderr",
     "output_type": "stream",
     "text": [
      "C:\\ProgramData\\Anaconda3\\lib\\site-packages\\seaborn\\distributions.py:306: UserWarning: Dataset has 0 variance; skipping density estimate.\n",
      "  warnings.warn(msg, UserWarning)\n",
      "C:\\ProgramData\\Anaconda3\\lib\\site-packages\\seaborn\\distributions.py:306: UserWarning: Dataset has 0 variance; skipping density estimate.\n",
      "  warnings.warn(msg, UserWarning)\n",
      "C:\\ProgramData\\Anaconda3\\lib\\site-packages\\seaborn\\distributions.py:306: UserWarning: Dataset has 0 variance; skipping density estimate.\n",
      "  warnings.warn(msg, UserWarning)\n",
      "C:\\ProgramData\\Anaconda3\\lib\\site-packages\\seaborn\\distributions.py:306: UserWarning: Dataset has 0 variance; skipping density estimate.\n",
      "  warnings.warn(msg, UserWarning)\n",
      "C:\\ProgramData\\Anaconda3\\lib\\site-packages\\seaborn\\distributions.py:306: UserWarning: Dataset has 0 variance; skipping density estimate.\n",
      "  warnings.warn(msg, UserWarning)\n",
      "C:\\ProgramData\\Anaconda3\\lib\\site-packages\\seaborn\\distributions.py:306: UserWarning: Dataset has 0 variance; skipping density estimate.\n",
      "  warnings.warn(msg, UserWarning)\n"
     ]
    },
    {
     "data": {
      "text/plain": [
       "<Figure size 720x576 with 0 Axes>"
      ]
     },
     "metadata": {},
     "output_type": "display_data"
    },
    {
     "data": {
      "image/png": "[encoded data removed]",
      "text/plain": [
       "<Figure size 684.625x540 with 12 Axes>"
      ]
     },
     "metadata": {
      "needs_background": "light"
     },
     "output_type": "display_data"
    }
   ],
   "source": [
    "plt.figure(figsize=(10,8))\n",
    "sns.pairplot(df, vars=['Subscribers','Average_Views', 'Average_Likes'], hue='Category')\n",
    "plt.show()"
   ]
  },
  {
   "cell_type": "code",
   "execution_count": 67,
   "id": "e6e0806b",
   "metadata": {},
   "outputs": [
    {
     "data": {
      "text/html": [
       "<div>\n",
       "<style scoped>\n",
       "    .dataframe tbody tr th:only-of-type {\n",
       "        vertical-align: middle;\n",
       "    }\n",
       "\n",
       "    .dataframe tbody tr th {\n",
       "        vertical-align: top;\n",
       "    }\n",
       "\n",
       "    .dataframe thead th {\n",
       "        text-align: right;\n",
       "    }\n",
       "</style>\n",
       "<table border=\"1\" class=\"dataframe\">\n",
       "  <thead>\n",
       "    <tr style=\"text-align: right;\">\n",
       "      <th></th>\n",
       "      <th>Subscribers</th>\n",
       "      <th>Average_Views</th>\n",
       "      <th>Average_Likes</th>\n",
       "      <th>Average_Comments</th>\n",
       "    </tr>\n",
       "  </thead>\n",
       "  <tbody>\n",
       "    <tr>\n",
       "      <th>Subscribers</th>\n",
       "      <td>1.000000</td>\n",
       "      <td>0.100920</td>\n",
       "      <td>0.053696</td>\n",
       "      <td>0.029372</td>\n",
       "    </tr>\n",
       "    <tr>\n",
       "      <th>Average_Views</th>\n",
       "      <td>0.100920</td>\n",
       "      <td>1.000000</td>\n",
       "      <td>0.922506</td>\n",
       "      <td>0.692639</td>\n",
       "    </tr>\n",
       "    <tr>\n",
       "      <th>Average_Likes</th>\n",
       "      <td>0.053696</td>\n",
       "      <td>0.922506</td>\n",
       "      <td>1.000000</td>\n",
       "      <td>0.743181</td>\n",
       "    </tr>\n",
       "    <tr>\n",
       "      <th>Average_Comments</th>\n",
       "      <td>0.029372</td>\n",
       "      <td>0.692639</td>\n",
       "      <td>0.743181</td>\n",
       "      <td>1.000000</td>\n",
       "    </tr>\n",
       "  </tbody>\n",
       "</table>\n",
       "</div>"
      ],
      "text/plain": [
       "                  Subscribers  Average_Views  Average_Likes  Average_Comments\n",
       "Subscribers          1.000000       0.100920       0.053696          0.029372\n",
       "Average_Views        0.100920       1.000000       0.922506          0.692639\n",
       "Average_Likes        0.053696       0.922506       1.000000          0.743181\n",
       "Average_Comments     0.029372       0.692639       0.743181          1.000000"
      ]
     },
     "execution_count": 67,
     "metadata": {},
     "output_type": "execute_result"
    }
   ],
   "source": [
    "df_corr=df.dropna().corr()\n",
    "df_corr"
   ]
  },
  {
   "cell_type": "code",
   "execution_count": 116,
   "id": "32c5053a",
   "metadata": {},
   "outputs": [
    {
     "data": {
      "text/plain": [
       "Text(0.5, 1.0, 'Correlations using Heatmap')"
      ]
     },
     "execution_count": 116,
     "metadata": {},
     "output_type": "execute_result"
    },
    {
     "data": {
      "image/png": "[encoded data removed]",
      "text/plain": [
       "<Figure size 432x288 with 2 Axes>"
      ]
     },
     "metadata": {
      "needs_background": "light"
     },
     "output_type": "display_data"
    }
   ],
   "source": [
    "sns.heatmap(df_corr, annot=True, cmap='PuBu' )\n",
    "plt.title(\"Correlations using Heatmap\")"
   ]
  },
  {
   "cell_type": "code",
   "execution_count": 117,
   "id": "1c68b815",
   "metadata": {},
   "outputs": [
    {
     "data": {
      "text/plain": [
       "Text(0.5, 1.0, 'Subscribers vs Average Views')"
      ]
     },
     "execution_count": 117,
     "metadata": {},
     "output_type": "execute_result"
    },
    {
     "data": {
      "image/png": "[encoded data removed]",
      "text/plain": [
       "<Figure size 936x432 with 1 Axes>"
      ]
     },
     "metadata": {
      "needs_background": "light"
     },
     "output_type": "display_data"
    }
   ],
   "source": [
    "plt.figure(figsize=(13,6))\n",
    "sns.scatterplot(data=df,x='Subscribers',y='Average_Views', hue='Category')\n",
    "plt.title(\"Subscribers vs Average Views\")"
   ]
  },
  {
   "cell_type": "code",
   "execution_count": 79,
   "id": "7988f29f",
   "metadata": {},
   "outputs": [
    {
     "data": {
      "text/plain": [
       "Unknown                 276\n",
       "Music & Dance           224\n",
       "Animation                97\n",
       "Video games              83\n",
       "News & Politics          49\n",
       "Toys                     45\n",
       "Movies                   38\n",
       "Daily vlogs              35\n",
       "Education                33\n",
       "Humor                    30\n",
       "Science & Technology     17\n",
       "Food & Drinks            16\n",
       "DIY & Life Hacks         15\n",
       "Sports                   11\n",
       "Fashion                   7\n",
       "Design/art                4\n",
       "Animals & Pets            4\n",
       "Fitness                   3\n",
       "ASMR                      3\n",
       "Autos & Vehicles          2\n",
       "Health & Self Help        2\n",
       "Beauty                    2\n",
       "Mystery                   1\n",
       "Travel                    1\n",
       "Name: Category, dtype: int64"
      ]
     },
     "execution_count": 79,
     "metadata": {},
     "output_type": "execute_result"
    }
   ],
   "source": [
    "df['Category'].value_counts()"
   ]
  },
  {
   "cell_type": "code",
   "execution_count": 85,
   "id": "44ed2539",
   "metadata": {},
   "outputs": [
    {
     "data": {
      "text/html": [
       "<div>\n",
       "<style scoped>\n",
       "    .dataframe tbody tr th:only-of-type {\n",
       "        vertical-align: middle;\n",
       "    }\n",
       "\n",
       "    .dataframe tbody tr th {\n",
       "        vertical-align: top;\n",
       "    }\n",
       "\n",
       "    .dataframe thead th {\n",
       "        text-align: right;\n",
       "    }\n",
       "</style>\n",
       "<table border=\"1\" class=\"dataframe\">\n",
       "  <thead>\n",
       "    <tr style=\"text-align: right;\">\n",
       "      <th></th>\n",
       "      <th>Average_Views</th>\n",
       "    </tr>\n",
       "    <tr>\n",
       "      <th>Category</th>\n",
       "      <th></th>\n",
       "    </tr>\n",
       "  </thead>\n",
       "  <tbody>\n",
       "    <tr>\n",
       "      <th>Music &amp; Dance</th>\n",
       "      <td>248263873</td>\n",
       "    </tr>\n",
       "    <tr>\n",
       "      <th>Unknown</th>\n",
       "      <td>212922598</td>\n",
       "    </tr>\n",
       "    <tr>\n",
       "      <th>Animation</th>\n",
       "      <td>152512800</td>\n",
       "    </tr>\n",
       "    <tr>\n",
       "      <th>Video games</th>\n",
       "      <td>148644400</td>\n",
       "    </tr>\n",
       "    <tr>\n",
       "      <th>Humor</th>\n",
       "      <td>48324899</td>\n",
       "    </tr>\n",
       "    <tr>\n",
       "      <th>Education</th>\n",
       "      <td>46210798</td>\n",
       "    </tr>\n",
       "    <tr>\n",
       "      <th>Movies</th>\n",
       "      <td>40439800</td>\n",
       "    </tr>\n",
       "    <tr>\n",
       "      <th>Daily vlogs</th>\n",
       "      <td>38103100</td>\n",
       "    </tr>\n",
       "    <tr>\n",
       "      <th>Toys</th>\n",
       "      <td>35984800</td>\n",
       "    </tr>\n",
       "    <tr>\n",
       "      <th>Sports</th>\n",
       "      <td>27754100</td>\n",
       "    </tr>\n",
       "    <tr>\n",
       "      <th>News &amp; Politics</th>\n",
       "      <td>27305300</td>\n",
       "    </tr>\n",
       "    <tr>\n",
       "      <th>Science &amp; Technology</th>\n",
       "      <td>21782900</td>\n",
       "    </tr>\n",
       "    <tr>\n",
       "      <th>DIY &amp; Life Hacks</th>\n",
       "      <td>14242699</td>\n",
       "    </tr>\n",
       "    <tr>\n",
       "      <th>Food &amp; Drinks</th>\n",
       "      <td>7880100</td>\n",
       "    </tr>\n",
       "    <tr>\n",
       "      <th>Design/art</th>\n",
       "      <td>7142600</td>\n",
       "    </tr>\n",
       "    <tr>\n",
       "      <th>Health &amp; Self Help</th>\n",
       "      <td>6390700</td>\n",
       "    </tr>\n",
       "    <tr>\n",
       "      <th>Animals &amp; Pets</th>\n",
       "      <td>5514500</td>\n",
       "    </tr>\n",
       "    <tr>\n",
       "      <th>Travel</th>\n",
       "      <td>3500000</td>\n",
       "    </tr>\n",
       "    <tr>\n",
       "      <th>Fashion</th>\n",
       "      <td>1993600</td>\n",
       "    </tr>\n",
       "    <tr>\n",
       "      <th>Beauty</th>\n",
       "      <td>1878500</td>\n",
       "    </tr>\n",
       "    <tr>\n",
       "      <th>Fitness</th>\n",
       "      <td>1723300</td>\n",
       "    </tr>\n",
       "    <tr>\n",
       "      <th>ASMR</th>\n",
       "      <td>1388700</td>\n",
       "    </tr>\n",
       "    <tr>\n",
       "      <th>Mystery</th>\n",
       "      <td>322700</td>\n",
       "    </tr>\n",
       "    <tr>\n",
       "      <th>Autos &amp; Vehicles</th>\n",
       "      <td>136700</td>\n",
       "    </tr>\n",
       "  </tbody>\n",
       "</table>\n",
       "</div>"
      ],
      "text/plain": [
       "                      Average_Views\n",
       "Category                           \n",
       "Music & Dance             248263873\n",
       "Unknown                   212922598\n",
       "Animation                 152512800\n",
       "Video games               148644400\n",
       "Humor                      48324899\n",
       "Education                  46210798\n",
       "Movies                     40439800\n",
       "Daily vlogs                38103100\n",
       "Toys                       35984800\n",
       "Sports                     27754100\n",
       "News & Politics            27305300\n",
       "Science & Technology       21782900\n",
       "DIY & Life Hacks           14242699\n",
       "Food & Drinks               7880100\n",
       "Design/art                  7142600\n",
       "Health & Self Help          6390700\n",
       "Animals & Pets              5514500\n",
       "Travel                      3500000\n",
       "Fashion                     1993600\n",
       "Beauty                      1878500\n",
       "Fitness                     1723300\n",
       "ASMR                        1388700\n",
       "Mystery                      322700\n",
       "Autos & Vehicles             136700"
      ]
     },
     "execution_count": 85,
     "metadata": {},
     "output_type": "execute_result"
    }
   ],
   "source": [
    "Top_Category=df.groupby(['Category'])[['Average_Views']].sum().sort_values(by='Average_Views',ascending=False)\n",
    "Top_Category"
   ]
  },
  {
   "cell_type": "code",
   "execution_count": 120,
   "id": "7e8c7685",
   "metadata": {},
   "outputs": [
    {
     "data": {
      "image/png": "[encoded data removed]",
      "text/plain": [
       "<Figure size 864x576 with 1 Axes>"
      ]
     },
     "metadata": {
      "needs_background": "light"
     },
     "output_type": "display_data"
    }
   ],
   "source": [
    "plt.figure(figsize=(12,8))\n",
    "sns.histplot(data=df, x='Category',color='darkorchid')\n",
    "plt.title(\"Top Categories viewed\")\n",
    "plt.xticks(rotation=90);"
   ]
  },
  {
   "cell_type": "markdown",
   "id": "fae28ce2",
   "metadata": {},
   "source": [
    "#### Conclusion: Top viewed category is Music & Dance. "
   ]
  },
  {
   "cell_type": "markdown",
   "id": "6bed9772",
   "metadata": {},
   "source": [
    "#### Top Youtubers with Most number of Subscribers "
   ]
  },
  {
   "cell_type": "code",
   "execution_count": 177,
   "id": "66f988f9",
   "metadata": {},
   "outputs": [
    {
     "data": {
      "text/html": [
       "<div>\n",
       "<style scoped>\n",
       "    .dataframe tbody tr th:only-of-type {\n",
       "        vertical-align: middle;\n",
       "    }\n",
       "\n",
       "    .dataframe tbody tr th {\n",
       "        vertical-align: top;\n",
       "    }\n",
       "\n",
       "    .dataframe thead th {\n",
       "        text-align: right;\n",
       "    }\n",
       "</style>\n",
       "<table border=\"1\" class=\"dataframe\">\n",
       "  <thead>\n",
       "    <tr style=\"text-align: right;\">\n",
       "      <th></th>\n",
       "      <th>Youtuber_Name</th>\n",
       "      <th>Subscribers</th>\n",
       "    </tr>\n",
       "  </thead>\n",
       "  <tbody>\n",
       "    <tr>\n",
       "      <th>0</th>\n",
       "      <td>tseries</td>\n",
       "      <td>212100000</td>\n",
       "    </tr>\n",
       "    <tr>\n",
       "      <th>1</th>\n",
       "      <td>checkgate</td>\n",
       "      <td>132100000</td>\n",
       "    </tr>\n",
       "    <tr>\n",
       "      <th>2</th>\n",
       "      <td>setindia</td>\n",
       "      <td>130400000</td>\n",
       "    </tr>\n",
       "    <tr>\n",
       "      <th>3</th>\n",
       "      <td>PewDiePie</td>\n",
       "      <td>111400000</td>\n",
       "    </tr>\n",
       "    <tr>\n",
       "      <th>4</th>\n",
       "      <td>MrBeast6000</td>\n",
       "      <td>92500000</td>\n",
       "    </tr>\n",
       "    <tr>\n",
       "      <th>5</th>\n",
       "      <td>✿ Kids Diana Show</td>\n",
       "      <td>92400000</td>\n",
       "    </tr>\n",
       "    <tr>\n",
       "      <th>6</th>\n",
       "      <td>Like Nastya</td>\n",
       "      <td>90100000</td>\n",
       "    </tr>\n",
       "    <tr>\n",
       "      <th>7</th>\n",
       "      <td>WWEFanNation</td>\n",
       "      <td>86900000</td>\n",
       "    </tr>\n",
       "    <tr>\n",
       "      <th>8</th>\n",
       "      <td>zeemusiccompany</td>\n",
       "      <td>82700000</td>\n",
       "    </tr>\n",
       "    <tr>\n",
       "      <th>9</th>\n",
       "      <td>Vlad and Niki</td>\n",
       "      <td>80400000</td>\n",
       "    </tr>\n",
       "  </tbody>\n",
       "</table>\n",
       "</div>"
      ],
      "text/plain": [
       "       Youtuber_Name  Subscribers\n",
       "0            tseries    212100000\n",
       "1          checkgate    132100000\n",
       "2           setindia    130400000\n",
       "3          PewDiePie    111400000\n",
       "4        MrBeast6000     92500000\n",
       "5  ✿ Kids Diana Show     92400000\n",
       "6        Like Nastya     90100000\n",
       "7       WWEFanNation     86900000\n",
       "8    zeemusiccompany     82700000\n",
       "9      Vlad and Niki     80400000"
      ]
     },
     "execution_count": 177,
     "metadata": {},
     "output_type": "execute_result"
    }
   ],
   "source": [
    "top_youtubers = df.groupby('Youtuber_Name')[[\"Subscribers\"]].sum().sort_values(by=\"Subscribers\",ascending=False).head(10).reset_index()\n",
    "top_youtubers"
   ]
  },
  {
   "cell_type": "code",
   "execution_count": 178,
   "id": "1c531e10",
   "metadata": {},
   "outputs": [
    {
     "data": {
      "image/png": "[encoded data removed]",
      "text/plain": [
       "<Figure size 864x360 with 1 Axes>"
      ]
     },
     "metadata": {
      "needs_background": "light"
     },
     "output_type": "display_data"
    }
   ],
   "source": [
    "plt.figure(figsize=(12,5))\n",
    "sns.barplot(x='Youtuber_Name', y='Subscribers', data=top_youtubers)\n",
    "plt.title(\"Top Youtubers with Most Subscribers\")\n",
    "plt.xticks(rotation=90);"
   ]
  },
  {
   "cell_type": "markdown",
   "id": "8b047a58",
   "metadata": {},
   "source": [
    "#### The Top Youtuber with Most Subscribers is tseries , followed by checkgate, setIndia, PewDiePie "
   ]
  },
  {
   "cell_type": "markdown",
   "id": "755ac5e8",
   "metadata": {},
   "source": [
    "#### Top Audience Countries"
   ]
  },
  {
   "cell_type": "code",
   "execution_count": 122,
   "id": "15f7b79e",
   "metadata": {},
   "outputs": [
    {
     "data": {
      "image/png": "[encoded data removed]",
      "text/plain": [
       "<Figure size 1200x800 with 1 Axes>"
      ]
     },
     "metadata": {
      "needs_background": "light"
     },
     "output_type": "display_data"
    }
   ],
   "source": [
    "plt.figure(figsize = (12,8),dpi=100)\n",
    "sns.histplot(x=\"Audience_Country\", data=df)\n",
    "plt.title(\"Top Audience Countries\")\n",
    "plt.xticks(rotation=90);"
   ]
  },
  {
   "cell_type": "code",
   "execution_count": 111,
   "id": "95e9eb2c",
   "metadata": {},
   "outputs": [
    {
     "data": {
      "image/png": "[encoded data removed]",
      "text/plain": [
       "<Figure size 1200x800 with 1 Axes>"
      ]
     },
     "metadata": {
      "needs_background": "light"
     },
     "output_type": "display_data"
    }
   ],
   "source": [
    "plt.figure(figsize = (12,8),dpi=100)\n",
    "sns.countplot(x=\"Audience_Country\", data=df)\n",
    "plt.xticks(rotation=90);"
   ]
  },
  {
   "cell_type": "markdown",
   "id": "bfe2fa1c",
   "metadata": {},
   "source": [
    "#### Top viewed youtubers in India "
   ]
  },
  {
   "cell_type": "code",
   "execution_count": 140,
   "id": "d946775c",
   "metadata": {},
   "outputs": [],
   "source": [
    "df_india = df.query('Audience_Country == \"India\" ')"
   ]
  },
  {
   "cell_type": "code",
   "execution_count": 141,
   "id": "35ca524c",
   "metadata": {},
   "outputs": [
    {
     "data": {
      "text/html": [
       "<div>\n",
       "<style scoped>\n",
       "    .dataframe tbody tr th:only-of-type {\n",
       "        vertical-align: middle;\n",
       "    }\n",
       "\n",
       "    .dataframe tbody tr th {\n",
       "        vertical-align: top;\n",
       "    }\n",
       "\n",
       "    .dataframe thead th {\n",
       "        text-align: right;\n",
       "    }\n",
       "</style>\n",
       "<table border=\"1\" class=\"dataframe\">\n",
       "  <thead>\n",
       "    <tr style=\"text-align: right;\">\n",
       "      <th></th>\n",
       "      <th>Youtuber_Name</th>\n",
       "      <th>Channel_Name</th>\n",
       "      <th>Category</th>\n",
       "      <th>Subscribers</th>\n",
       "      <th>Audience_Country</th>\n",
       "      <th>Average_Views</th>\n",
       "      <th>Average_Likes</th>\n",
       "      <th>Average_Comments</th>\n",
       "    </tr>\n",
       "  </thead>\n",
       "  <tbody>\n",
       "    <tr>\n",
       "      <th>875</th>\n",
       "      <td>WAMIndiaMovies</td>\n",
       "      <td>Wamindia Movies</td>\n",
       "      <td>Unknown</td>\n",
       "      <td>9900000</td>\n",
       "      <td>India</td>\n",
       "      <td>138500</td>\n",
       "      <td>2200.0</td>\n",
       "      <td>41.0</td>\n",
       "    </tr>\n",
       "    <tr>\n",
       "      <th>874</th>\n",
       "      <td>Heroine Movies 2022</td>\n",
       "      <td>Heroine Movies 2022</td>\n",
       "      <td>Daily vlogs</td>\n",
       "      <td>9900000</td>\n",
       "      <td>India</td>\n",
       "      <td>151900</td>\n",
       "      <td>1100.0</td>\n",
       "      <td>22.0</td>\n",
       "    </tr>\n",
       "    <tr>\n",
       "      <th>871</th>\n",
       "      <td>Nirahua Music World</td>\n",
       "      <td>Nirahua Music World</td>\n",
       "      <td>Unknown</td>\n",
       "      <td>9900000</td>\n",
       "      <td>India</td>\n",
       "      <td>112600</td>\n",
       "      <td>5000.0</td>\n",
       "      <td>152.0</td>\n",
       "    </tr>\n",
       "    <tr>\n",
       "      <th>866</th>\n",
       "      <td>Comedy Captain</td>\n",
       "      <td>Comedy Captain</td>\n",
       "      <td>Unknown</td>\n",
       "      <td>9900000</td>\n",
       "      <td>India</td>\n",
       "      <td>16300</td>\n",
       "      <td>127.0</td>\n",
       "      <td>3.0</td>\n",
       "    </tr>\n",
       "    <tr>\n",
       "      <th>878</th>\n",
       "      <td>5-Minute Recipes</td>\n",
       "      <td>5-Minute Recipes</td>\n",
       "      <td>Unknown</td>\n",
       "      <td>9800000</td>\n",
       "      <td>India</td>\n",
       "      <td>76400</td>\n",
       "      <td>860.0</td>\n",
       "      <td>15.0</td>\n",
       "    </tr>\n",
       "    <tr>\n",
       "      <th>...</th>\n",
       "      <td>...</td>\n",
       "      <td>...</td>\n",
       "      <td>...</td>\n",
       "      <td>...</td>\n",
       "      <td>...</td>\n",
       "      <td>...</td>\n",
       "      <td>...</td>\n",
       "      <td>...</td>\n",
       "    </tr>\n",
       "    <tr>\n",
       "      <th>837</th>\n",
       "      <td>Captain Watch Hits</td>\n",
       "      <td>Captain Watch Hits</td>\n",
       "      <td>Unknown</td>\n",
       "      <td>10100000</td>\n",
       "      <td>India</td>\n",
       "      <td>41200</td>\n",
       "      <td>234.0</td>\n",
       "      <td>6.0</td>\n",
       "    </tr>\n",
       "    <tr>\n",
       "      <th>821</th>\n",
       "      <td>TWO SIDE GAMERS</td>\n",
       "      <td>TWO SIDE GAMERS</td>\n",
       "      <td>Unknown</td>\n",
       "      <td>10100000</td>\n",
       "      <td>India</td>\n",
       "      <td>681400</td>\n",
       "      <td>62300.0</td>\n",
       "      <td>1600.0</td>\n",
       "    </tr>\n",
       "    <tr>\n",
       "      <th>827</th>\n",
       "      <td>TV9 Bharatvarsh</td>\n",
       "      <td>TV9 Bharatvarsh</td>\n",
       "      <td>News &amp; Politics</td>\n",
       "      <td>10100000</td>\n",
       "      <td>India</td>\n",
       "      <td>27900</td>\n",
       "      <td>484.0</td>\n",
       "      <td>19.0</td>\n",
       "    </tr>\n",
       "    <tr>\n",
       "      <th>836</th>\n",
       "      <td>Republic Bharat</td>\n",
       "      <td>Republic Bharat</td>\n",
       "      <td>News &amp; Politics</td>\n",
       "      <td>10100000</td>\n",
       "      <td>India</td>\n",
       "      <td>15400</td>\n",
       "      <td>43400.0</td>\n",
       "      <td>17.0</td>\n",
       "    </tr>\n",
       "    <tr>\n",
       "      <th>834</th>\n",
       "      <td>Pen Multiplex</td>\n",
       "      <td>Pen Multiplex</td>\n",
       "      <td>Unknown</td>\n",
       "      <td>10100000</td>\n",
       "      <td>India</td>\n",
       "      <td>10300</td>\n",
       "      <td>60.0</td>\n",
       "      <td>5.0</td>\n",
       "    </tr>\n",
       "  </tbody>\n",
       "</table>\n",
       "<p>207 rows × 8 columns</p>\n",
       "</div>"
      ],
      "text/plain": [
       "           Youtuber_Name         Channel_Name         Category  Subscribers  \\\n",
       "875       WAMIndiaMovies      Wamindia Movies          Unknown      9900000   \n",
       "874  Heroine Movies 2022  Heroine Movies 2022      Daily vlogs      9900000   \n",
       "871  Nirahua Music World  Nirahua Music World          Unknown      9900000   \n",
       "866       Comedy Captain       Comedy Captain          Unknown      9900000   \n",
       "878     5-Minute Recipes     5-Minute Recipes          Unknown      9800000   \n",
       "..                   ...                  ...              ...          ...   \n",
       "837   Captain Watch Hits   Captain Watch Hits          Unknown     10100000   \n",
       "821      TWO SIDE GAMERS      TWO SIDE GAMERS          Unknown     10100000   \n",
       "827      TV9 Bharatvarsh      TV9 Bharatvarsh  News & Politics     10100000   \n",
       "836      Republic Bharat      Republic Bharat  News & Politics     10100000   \n",
       "834        Pen Multiplex        Pen Multiplex          Unknown     10100000   \n",
       "\n",
       "    Audience_Country  Average_Views  Average_Likes  Average_Comments  \n",
       "875            India         138500         2200.0              41.0  \n",
       "874            India         151900         1100.0              22.0  \n",
       "871            India         112600         5000.0             152.0  \n",
       "866            India          16300          127.0               3.0  \n",
       "878            India          76400          860.0              15.0  \n",
       "..               ...            ...            ...               ...  \n",
       "837            India          41200          234.0               6.0  \n",
       "821            India         681400        62300.0            1600.0  \n",
       "827            India          27900          484.0              19.0  \n",
       "836            India          15400        43400.0              17.0  \n",
       "834            India          10300           60.0               5.0  \n",
       "\n",
       "[207 rows x 8 columns]"
      ]
     },
     "execution_count": 141,
     "metadata": {},
     "output_type": "execute_result"
    }
   ],
   "source": [
    "df_india"
   ]
  },
  {
   "cell_type": "code",
   "execution_count": 172,
   "id": "2012fe7c",
   "metadata": {},
   "outputs": [
    {
     "data": {
      "text/html": [
       "<div>\n",
       "<style scoped>\n",
       "    .dataframe tbody tr th:only-of-type {\n",
       "        vertical-align: middle;\n",
       "    }\n",
       "\n",
       "    .dataframe tbody tr th {\n",
       "        vertical-align: top;\n",
       "    }\n",
       "\n",
       "    .dataframe thead th {\n",
       "        text-align: right;\n",
       "    }\n",
       "</style>\n",
       "<table border=\"1\" class=\"dataframe\">\n",
       "  <thead>\n",
       "    <tr style=\"text-align: right;\">\n",
       "      <th></th>\n",
       "      <th>Youtuber_Name</th>\n",
       "      <th>Subscribers</th>\n",
       "    </tr>\n",
       "  </thead>\n",
       "  <tbody>\n",
       "    <tr>\n",
       "      <th>0</th>\n",
       "      <td>tseries</td>\n",
       "      <td>212100000</td>\n",
       "    </tr>\n",
       "    <tr>\n",
       "      <th>1</th>\n",
       "      <td>setindia</td>\n",
       "      <td>130400000</td>\n",
       "    </tr>\n",
       "    <tr>\n",
       "      <th>2</th>\n",
       "      <td>zeemusiccompany</td>\n",
       "      <td>82700000</td>\n",
       "    </tr>\n",
       "    <tr>\n",
       "      <th>3</th>\n",
       "      <td>GoldminesTelefilms</td>\n",
       "      <td>67900000</td>\n",
       "    </tr>\n",
       "    <tr>\n",
       "      <th>4</th>\n",
       "      <td>sabtv</td>\n",
       "      <td>64900000</td>\n",
       "    </tr>\n",
       "    <tr>\n",
       "      <th>5</th>\n",
       "      <td>zeetv</td>\n",
       "      <td>61500000</td>\n",
       "    </tr>\n",
       "    <tr>\n",
       "      <th>6</th>\n",
       "      <td>filmigaane</td>\n",
       "      <td>59200000</td>\n",
       "    </tr>\n",
       "    <tr>\n",
       "      <th>7</th>\n",
       "      <td>BHOJPURIWAVE</td>\n",
       "      <td>51500000</td>\n",
       "    </tr>\n",
       "    <tr>\n",
       "      <th>8</th>\n",
       "      <td>colorstv</td>\n",
       "      <td>51200000</td>\n",
       "    </tr>\n",
       "    <tr>\n",
       "      <th>9</th>\n",
       "      <td>aajtaktv</td>\n",
       "      <td>50900000</td>\n",
       "    </tr>\n",
       "  </tbody>\n",
       "</table>\n",
       "</div>"
      ],
      "text/plain": [
       "        Youtuber_Name  Subscribers\n",
       "0             tseries    212100000\n",
       "1            setindia    130400000\n",
       "2     zeemusiccompany     82700000\n",
       "3  GoldminesTelefilms     67900000\n",
       "4               sabtv     64900000\n",
       "5               zeetv     61500000\n",
       "6          filmigaane     59200000\n",
       "7        BHOJPURIWAVE     51500000\n",
       "8            colorstv     51200000\n",
       "9            aajtaktv     50900000"
      ]
     },
     "execution_count": 172,
     "metadata": {},
     "output_type": "execute_result"
    }
   ],
   "source": [
    "df_india_sub = df_india.groupby('Youtuber_Name')[[\"Subscribers\"]].sum().sort_values(by=\"Subscribers\",ascending=False).head(10).reset_index()\n",
    "df_india_sub"
   ]
  },
  {
   "cell_type": "code",
   "execution_count": 174,
   "id": "ee61e466",
   "metadata": {},
   "outputs": [
    {
     "data": {
      "text/plain": [
       "Index(['Youtuber_Name', 'Subscribers'], dtype='object')"
      ]
     },
     "execution_count": 174,
     "metadata": {},
     "output_type": "execute_result"
    }
   ],
   "source": [
    "df_india_sub.columns"
   ]
  },
  {
   "cell_type": "code",
   "execution_count": 176,
   "id": "d2bfc139",
   "metadata": {},
   "outputs": [
    {
     "data": {
      "image/png": "[encoded data removed]",
      "text/plain": [
       "<Figure size 864x360 with 1 Axes>"
      ]
     },
     "metadata": {
      "needs_background": "light"
     },
     "output_type": "display_data"
    }
   ],
   "source": [
    "plt.figure(figsize=(12,5))\n",
    "sns.barplot(x='Youtuber_Name', y='Subscribers', data=df_india_sub)\n",
    "plt.title(\"Top viewed Youtubers in India\")\n",
    "plt.xticks(rotation=90);"
   ]
  },
  {
   "cell_type": "markdown",
   "id": "37511251",
   "metadata": {},
   "source": [
    "#### Top viewed youtubers in India are tseries, setIndia, zeemusiccompany and so on.."
   ]
  },
  {
   "cell_type": "code",
   "execution_count": null,
   "id": "fc793f9e",
   "metadata": {},
   "outputs": [],
   "source": []
  }
 ],
 "metadata": {
  "kernelspec": {
   "display_name": "Python 3",
   "language": "python",
   "name": "python3"
  },
  "language_info": {
   "codemirror_mode": {
    "name": "ipython",
    "version": 3
   },
   "file_extension": ".py",
   "mimetype": "text/x-python",
   "name": "python",
   "nbconvert_exporter": "python",
   "pygments_lexer": "ipython3",
   "version": "3.8.8"
  }
 },
 "nbformat": 4,
 "nbformat_minor": 5
}
